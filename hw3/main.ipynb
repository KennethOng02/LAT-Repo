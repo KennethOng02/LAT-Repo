{
 "cells": [
  {
   "cell_type": "code",
   "execution_count": 9,
   "id": "949602e1",
   "metadata": {},
   "outputs": [],
   "source": [
    "import openai\n",
    "import pandas as pd\n",
    "import os"
   ]
  },
  {
   "cell_type": "code",
   "execution_count": 10,
   "id": "e3eb05b9",
   "metadata": {},
   "outputs": [],
   "source": [
    "keyfile = open(\"key.txt\", \"r\")\n",
    "key = keyfile.readline()\n",
    "openai.api_key = key.rstrip()"
   ]
  },
  {
   "cell_type": "code",
   "execution_count": 11,
   "id": "0c167d2f",
   "metadata": {},
   "outputs": [
    {
     "data": {
      "text/plain": [
       "[\"['An analysis of children’ interaction with an AI chatbot and its \\\\nimpact on their interest in reading \\\\n\\\\nARTICLE INFO                                \\\\nKeywords:\\\\nData science applications in education\\\\nHuman-computer interface applications in subject areas elementary education \\\\n\\\\nABSTRACT  \\\\nEducators have indicated that social approaches to reading such as book talk activities are helpful for promoting students’ interest in reading. However', ' it is not possible for teachers to interact with all students to talk about the books they have read as they have different language profi\\\\xadciency levels and different topics of interest. This study thus aimed to understand the affordances of a chatbot built with artificialintelligence  techniques as a book talk companion', ' and to explore the role of the interaction in students’ engagement and interest in reading. Adopting AI tech\\\\xadniques', ' the chatbot in this study had basic understanding of 157 books. While students could choose any of the books to read and interact with the chatbot', ' the chatbot provided book talk and social affective cues to facilitate the book talk. Multiple data sources from 68 students partici\\\\xadpating in a 6-week reading activity were collected and analyzed. It was found that students perceived a high level of social connection with the chatbot. In particular', ' students talking with the chatbot maintained a stable level of situational interest in the value dimension', ' while the interest of those who did not participate in the book talk with the chatbot faded significantly. Students’ perceptions of the social connection with the chatbot were closely related to their engagement in the reading activity and correlated with both their triggered-situational interest and  maintained situational interest. The results provide insights into how a chatbot with AI techniques can create a positive reading experience to sustain students’ interest in learning\\\\n\\\\n1.  Introduction \\\\n\\\\n    Extensive reading (Day & Bamford', ' 2002) has been considered as an integral pathway to language learning and general learning. \\\\nExtensive reading is a self-determining reading process in which students have ownership of their reading and can choose books to read \\\\nbased  on their language  proficiency level and interests without predefined goals or pressure from  others (Whitten et al.', ' 2019; \\\\nYamashita', ' 2013). Recent studies have confirmed the positive impact of extensive reading', ' and multiple cognitive effects have been \\\\nreported in the literature. A review by Yamashita (2013) reported the effect of extensive reading on language learning including the \\\\nenhancement of reading comprehension', ' reading rate', ' grammar', ' writing', ' vocabulary', ' and general language proficiency. More spe\\\\xad\\\\ncifically', ' most of the meta-analyses of extensive reading showed medium to large effect sizes for vocabulary growth and reading comprehension (McQuillan', ' 2019). \\\\n    It has been widely reported that extensive reading leads to positive reading affect including better reading attitude', ' motivation', ' and \\\\ninterest in reading (Chen et al.', ' 2013; Yamashita', ' 2013). The cl\",\n",
       " \"se relation between students’ affective feeling and their language \\\\ndevelopment may be due to the fact that extensive reading is an example of a flowactivity  (Huang & Nathan-Roberts', ' 2019) in which \\\\nlearners are totally immersed in the content of books and are therefore more likely to adopt active strategies to learn (Liu et al.', ' 2011). \\\\nHowever', ' related studies have also pointed out that structured extensive reading programs in school education did not achieve the \\\\nexpected results (Milliner', ' 2017). Instead of allowing students to read freely', ' structured programs assign students to complete certain \\\\nreading  duties', ' and students tend to do the minimal  amount  of reading  necessary to fulfill the requirements (McQuillan', ' 2019). \\\\nExtensive reading as an assignment given by the teacher did not show significant improvement in students’    language proficiency \\\\n(Nakamura', ' 2018). These inconsistent findingsmay    be attributed to the feature of the reading activity that asked students to read one \\\\nbook  every  2 weeks. Furthermore', '  it has been  reported that very  few students are dedicated  EFL  readers for pleasure as it is \\\\nextraordinarily difficult for beginner readers to deal with foreign languages (Cho  &  Krashen', ' 2019a).  Therefore', ' approaches  to \\\\nenhancing student engagement in extensive reading in a foreign language have become critical to achieve positive effects. \\\\n    Social approaches are considered a pathway to increasing student enthusiasm for reading. Traditionally', ' reading is considered as a \\\\nsolitary psychological process in which  the individual constructs meaning  from  the text. However', '  contemporary   socio-cultural \\\\nconstructivists believe that meaningful learning cannot be isolated from the social', ' cultural', ' and contextualized background against \\\\nwhich meaningful learning occurs (Lund', ' 2008; Vygotsky', ' 1978). Consistent with this rationale', ' learning and reading is a social process \\\\nwhich involves social interaction through which shared understanding is constructed (Harrison & Thomas', ' 2009). A community-based \\\\nlearning approach  (Curran', '  1976) that emphasizes  the importance  of the social dimension  of learning is thus integral. Such an \\\\napproach asserts that learning is not an information transmitting process of passing assignments from teachers to students', ' but a social \\\\nprocess that involves not only student cognitive development but also the students’ affective needs. More specifically', ' the learning \\\\nactivities should address students’ needs in the sense of ownership and curiosity in an attempt to foster their motivation and interest in \\\\nlearning (Yamashita', ' 2013). \\\\n    The interest-driven social approaches such as book talk activities (Chambers', ' 1985) may address readers’ cognitive and affective \\\\nneeds in reading. On one hand', ' the conversation about a book may prompt students to think about the context of the book (Gunter & \\\\nKenny', ' 2008). On the other hand', ' the social setting of the activity may afford a fun and enjoyable atmosphere which engages students \\\\nin reading (Cremin & Swann', ' 2016). However', ' an e\",\n",
       " \"pirical study by Eriksson (2002) also coined the term “the book talk dilemma', '” \\\\nreferring to the dilemma of having students perform a synchronized activity versus free reading for pleasure. The dilemma signifiesa  \\\\ngeneral challenge facing teachers who implement extensive reading in the classroom. While extensive reading should afford students \\\\nopportunities to read based on their own interest and pace', ' teachers generally regulate the interest-driven social activity as a syn\\\\xad\\\\nchronized activity in which all students read a book at the same pace', ' exercising a sort of quasi-control over students. This problem \\\\nmay be partially due to the fact that teachers can only talk with students according to a given schedule', ' and cannot address the needs of \\\\ndifferent students if students read different books at different paces. \\\\n    Artificial intelligent (AI) enabled chatbots (Abdul-Kader & Woods', ' 2015) may have the potential to address this dilemma as the \\\\nchatbots can act as reading companions which can interact with students about the books they are interested in. Chatbots are auto\\\\xad\\\\nmatic computer conversation agents with knowledge in certain domains to achieve a specificgoal  such as customer service (Cui et al.', ' \\\\n2017) or health care (Ayanouz et al.', ' 2020) through computer-human conversation. With these AI techniques such as natural language \\\\nprocessing and machine learning techniques (see Allen NLP https://docs.allennlp.org/main/for a summary)', ' the chatbots can have \\\\nbasic understanding of the books that students read. For instance', ' the co-reference resolution technique (Jurafsky & Martin', ' 2020; \\\\nSukthanker et al.', ' 2020) can retrieve the reference relations between noun and pronoun and can thus retrieve the main characters of a \\\\nstory. With the dependency parsing technique (Dozat & Manning', ' 2018)', ' chatbots can understand the basic sentence structure and thus \\\\nidentify the main actions that characters perform in a story. The chatbot development kits such as Google DialogFlow enable de\\\\xad\\\\nvelopers to specify conversation themes and dialog moves to implement chatbots based on domain-specific requirements. \\\\n    Recently', ' an increasing number of studies have attempted to understand how educational chatbots may augment learning in many \\\\ndifferent settings', ' for example', ' vocabulary learning (Chen et al.', ' 2020; Mazzoni  & Benvenuti', '  2015; Tanaka  &  Matsuzoe', ' 2012)', ' \\\\nlearning of speaking skills (Ayedoun et al.', ' 2015)', ' writing (Lin & Chang', ' 2020)', ' mathematics (Konijn & Hoorn', ' 2020; Mohammad\\\\xad\\\\nhasani  et al.', ' 2018)', ' and science learning (Tellols et al.', ' 2020). These chatbots used the question-and-answer method  to prompt \\\\nstudents to carry out necessary  learning in order to learn the target knowledge or skill at the cognitive level. Along this line of \\\\ndevelopment', ' interaction with chatbots may potentially impact students’ engagement in reading activities as chatbots may provide \\\\nprompts to guide students to think about the stories they are reading (Xu et al.', ' 2021) and act like human reading companions that can \\\\naccompany them and pro\",\n",
       " \"ide affective supports to help them read actively (Michaelis &     Mutlu', ' 2017', ' 2018). However', ' previous \\\\nstudies have indicated that students may respond to chatbots differently compared to interacting with real humans (Hill et al.', ' 2015; Xu \\\\net al.', ' 2021). How students perceive the chatbot as a companion in reading is not well documented in the literature. In particular', ' \\\\nwhether  students consider  the chatbots that were developed  with  current natural language processing  techniques', ' including the \\\\nco-reference resolution and dependency parsing techniques to have intelligence about the books they have read and to act like a human \\\\nreading companion is not clear in the literature. \\\\n    This study thus aimed to investigate elementary students’ interaction with a chatbot that was developed with AI techniques to \\\\nunderstand the impact of the chatbot on students’ engagement and interest in extensive reading. More specifically', 'this  study collected \\\\nand analyzed data from 68 elementary students who were EFL learners. Data include the interaction with the chatbot', ' and students’ \\\\nengagement   and  interest in reading English books during a 6-week  extensive reading  activity. By analyzing the data', ' this study \\\\nattempted to answer the following research questions: \\\\n\\\\n    RQ1: How do students interact with and perceive the social connection with the chatbot? \\\\n    RQ2: Does the interaction with the chatbot impact students’ engagement and situational interest in extensive reading? \\\\n    RQ3. What role does the perceived social connection with the chatbot play in students’ engagement and situational interest in \\\\n    extensive reading? \\\\n\\\\n2.  Literature review \\\\n\\\\n2.1. Interest-driven social approach to enhancing extensive reading \\\\n\\\\n    Interest represents a specific affective relationship between a person and an object. Ainley et al. (2002) indicated that interest \\\\nsignifies an individual’s predisposition to attend to certain objects', ' and may also characterize a psychological state generated by \\\\nspecificenvironmental   stimuli. Therefore', ' Krapp (1999) suggested that interest is “the notion of personal relevance or a readiness to \\\\nengage', ' with high level of effort', ' in interest-related tasks.” Interest shares similar constructs with motivation and thus they are dis\\\\xad\\\\ncussed together in the literature. Krapp further elaborated the relations between interest', ' motivation', ' and learning. According to his \\\\nperspective', ' motivation refers to how students have an actualized intention to engage in a certain learning task. Intrinsic motivation is \\\\nthus considered as the result of the close connection between the learning task and students’ interest. Therefore', ' interest has a critical \\\\ninfluence on students’ attention', ' learning strategies', ' and achievement. \\\\n    Research on interest development provides a clear framework to help students develop interest in reading. In the framework', ' \\\\npersonal interest was initiated from situational interest that is triggered by the interaction between individuals and specific things. \\\\nInteresting features of an object may trigger situationa\",\n",
       " \" interest', ' and the interest in this object can be maintained and can continuously \\\\nengage individuals to interact with the object. Therefore', ' situational interest involves both triggered situational interest and main\\\\xad\\\\ntained situational interest. Certain features such as novelty or attention-catching characteristics are more likely to trigger situational \\\\ninterest (Hidi', ' 1990). In order to maintain situational interest', ' students need to findthat  a certain activity is meaningful or relevant to \\\\nthem (Harackiewicz et al.', ' 2000). An activity can become a personal interest only when the individual can identify its value and obtain \\\\npositive affective experience from it (Krapp', ' 1999). Krapp therefore pointed out two conditions for a person to be engaged in a certain \\\\nactivity for a long time: (1) value: the individual considers that the activity is sufficientlyimportant', '  and (2) feeling: the individual’s \\\\nexperience in this activity is positive and emotionally satisfying. \\\\n    In this regard', ' researchers have proposed different interaction guidelines to promote students’ interest in learning activities. For \\\\ninstance', ' it was found that students are more likely to perceive positive experiences of teaching materials when the teaching materials \\\\nare presented with warm colors', ' with animations including social cues', ' or in an anthropomorphic form (Endres et al.', ' 2020). Baker \\\\net al. (2019)  proposed  a conversational  approach  to promote  positive experience  in the classroom.  They  found  that humor', ' \\\\nself-disclosure', ' and narrative made students sense positive feelings of joy', ' encouragement', ' and dominance. However', ' a previous study \\\\nby Wang and Adesope (2016) added seductive details of the Yellowstone Hot Springs eruption to improve students’ interest in regular \\\\ntext on the formation of the earth. The researchers found that the seductive material improved students’ situational interest. However', ' \\\\nthe same seductive material negatively influenced students’ performance in the recall test of the topic and could not improve their \\\\nmaintained interest in the topic. This negative impact resulted from the fact that the seductive details only attracted students’ attention \\\\nto the interesting part of the material and not to the core body of knowledge. Similarly', ' interaction with a chatbot may have the \\\\npotential to improve students’ situational interest in reading. However', ' it is worth trying to understand whether this approach may \\\\nmaintain their long-term interest. \\\\n    Social approaches to reading may be helpful for promoting students’ situational interest in reading. From the perspective of social \\\\nconstructivism', ' reading is considered as a social practice (Cremin & Swann', ' 2016) which involves subtle social relationships (e.g.', ' \\\\nauthor-reader  and reader to reader)', ' making  reading  a social process. The social practice affects how rights and obligations are \\\\ndistributed among readers', ' which in turn influenceshow  people read', ' the identities that readers assume', ' and the meanings that readers \\\\nconstruct (Bloome &   Katz', ' 1997). Bloome and Kat\"]"
      ]
     },
     "execution_count": 11,
     "metadata": {},
     "output_type": "execute_result"
    }
   ],
   "source": [
    "files = os.listdir()\n",
    "paper_data = []\n",
    "filenum = 0\n",
    "for file in files:\n",
    "    if file.endswith(\".txt\") and file != \"key.txt\":\n",
    "        filenum += 1\n",
    "        with open(file, \"r\") as f:\n",
    "            fdata = f.read()\n",
    "            itemlist = str(fdata.split(\",\"))\n",
    "            paper_data.append([itemlist[0:3200], itemlist[3201:6400], itemlist[6401:9600], itemlist[9601:12800], itemlist[12801:16000]])\n",
    "\n",
    "paper_data[0]"
   ]
  },
  {
   "cell_type": "code",
   "execution_count": 12,
   "id": "f35bdc5a",
   "metadata": {},
   "outputs": [],
   "source": [
    "def chatgptfn(sub_list):\n",
    "    result = ''\n",
    "    response = openai.ChatCompletion.create(\n",
    "        model=\"gpt-3.5-turbo\",\n",
    "        messages=[\n",
    "            {\"role\": \"system\", \"content\": \"You are an assistant\"},\n",
    "            {\"role\": \"user\", \"content\": f\"{sub_list} :give me a summary\"}\n",
    "        ]\n",
    "    )\n",
    "    for choice in response.choices:\n",
    "        result += choice.message.content\n",
    "    return result"
   ]
  },
  {
   "cell_type": "code",
   "execution_count": 6,
   "id": "35db3c3f",
   "metadata": {},
   "outputs": [
    {
     "ename": "RateLimitError",
     "evalue": "You exceeded your current quota, please check your plan and billing details.",
     "output_type": "error",
     "traceback": [
      "\u001b[0;31m---------------------------------------------------------------------------\u001b[0m",
      "\u001b[0;31mRateLimitError\u001b[0m                            Traceback (most recent call last)",
      "Cell \u001b[0;32mIn[6], line 5\u001b[0m\n\u001b[1;32m      3\u001b[0m string \u001b[38;5;241m=\u001b[39m \u001b[38;5;124m\"\u001b[39m\u001b[38;5;124m\"\u001b[39m\n\u001b[1;32m      4\u001b[0m \u001b[38;5;28;01mfor\u001b[39;00m j \u001b[38;5;129;01min\u001b[39;00m paper_data[i]:\n\u001b[0;32m----> 5\u001b[0m     string \u001b[38;5;241m+\u001b[39m\u001b[38;5;241m=\u001b[39m \u001b[43mchatgptfn\u001b[49m\u001b[43m(\u001b[49m\u001b[43mj\u001b[49m\u001b[43m)\u001b[49m\n\u001b[1;32m      6\u001b[0m data\u001b[38;5;241m.\u001b[39mappend(string)\n",
      "Cell \u001b[0;32mIn[5], line 3\u001b[0m, in \u001b[0;36mchatgptfn\u001b[0;34m(sub_list)\u001b[0m\n\u001b[1;32m      1\u001b[0m \u001b[38;5;28;01mdef\u001b[39;00m \u001b[38;5;21mchatgptfn\u001b[39m(sub_list):\n\u001b[1;32m      2\u001b[0m     result \u001b[38;5;241m=\u001b[39m \u001b[38;5;124m'\u001b[39m\u001b[38;5;124m'\u001b[39m\n\u001b[0;32m----> 3\u001b[0m     response \u001b[38;5;241m=\u001b[39m \u001b[43mopenai\u001b[49m\u001b[38;5;241;43m.\u001b[39;49m\u001b[43mChatCompletion\u001b[49m\u001b[38;5;241;43m.\u001b[39;49m\u001b[43mcreate\u001b[49m\u001b[43m(\u001b[49m\n\u001b[1;32m      4\u001b[0m \u001b[43m        \u001b[49m\u001b[43mmodel\u001b[49m\u001b[38;5;241;43m=\u001b[39;49m\u001b[38;5;124;43m\"\u001b[39;49m\u001b[38;5;124;43mgpt-3.5-turbo\u001b[39;49m\u001b[38;5;124;43m\"\u001b[39;49m\u001b[43m,\u001b[49m\n\u001b[1;32m      5\u001b[0m \u001b[43m        \u001b[49m\u001b[43mmessages\u001b[49m\u001b[38;5;241;43m=\u001b[39;49m\u001b[43m[\u001b[49m\n\u001b[1;32m      6\u001b[0m \u001b[43m            \u001b[49m\u001b[43m{\u001b[49m\u001b[38;5;124;43m\"\u001b[39;49m\u001b[38;5;124;43mrole\u001b[39;49m\u001b[38;5;124;43m\"\u001b[39;49m\u001b[43m:\u001b[49m\u001b[43m \u001b[49m\u001b[38;5;124;43m\"\u001b[39;49m\u001b[38;5;124;43msystem\u001b[39;49m\u001b[38;5;124;43m\"\u001b[39;49m\u001b[43m,\u001b[49m\u001b[43m \u001b[49m\u001b[38;5;124;43m\"\u001b[39;49m\u001b[38;5;124;43mcontent\u001b[39;49m\u001b[38;5;124;43m\"\u001b[39;49m\u001b[43m:\u001b[49m\u001b[43m \u001b[49m\u001b[38;5;124;43m\"\u001b[39;49m\u001b[38;5;124;43mYou are an assistant\u001b[39;49m\u001b[38;5;124;43m\"\u001b[39;49m\u001b[43m}\u001b[49m\u001b[43m,\u001b[49m\n\u001b[1;32m      7\u001b[0m \u001b[43m            \u001b[49m\u001b[43m{\u001b[49m\u001b[38;5;124;43m\"\u001b[39;49m\u001b[38;5;124;43mrole\u001b[39;49m\u001b[38;5;124;43m\"\u001b[39;49m\u001b[43m:\u001b[49m\u001b[43m \u001b[49m\u001b[38;5;124;43m\"\u001b[39;49m\u001b[38;5;124;43muser\u001b[39;49m\u001b[38;5;124;43m\"\u001b[39;49m\u001b[43m,\u001b[49m\u001b[43m \u001b[49m\u001b[38;5;124;43m\"\u001b[39;49m\u001b[38;5;124;43mcontent\u001b[39;49m\u001b[38;5;124;43m\"\u001b[39;49m\u001b[43m:\u001b[49m\u001b[43m \u001b[49m\u001b[38;5;124;43mf\u001b[39;49m\u001b[38;5;124;43m\"\u001b[39;49m\u001b[38;5;132;43;01m{\u001b[39;49;00m\u001b[43msub_list\u001b[49m\u001b[38;5;132;43;01m}\u001b[39;49;00m\u001b[38;5;124;43m :give me a summary\u001b[39;49m\u001b[38;5;124;43m\"\u001b[39;49m\u001b[43m}\u001b[49m\n\u001b[1;32m      8\u001b[0m \u001b[43m        \u001b[49m\u001b[43m]\u001b[49m\n\u001b[1;32m      9\u001b[0m \u001b[43m    \u001b[49m\u001b[43m)\u001b[49m\n\u001b[1;32m     10\u001b[0m     \u001b[38;5;28;01mfor\u001b[39;00m choice \u001b[38;5;129;01min\u001b[39;00m response\u001b[38;5;241m.\u001b[39mchoices:\n\u001b[1;32m     11\u001b[0m         result \u001b[38;5;241m+\u001b[39m\u001b[38;5;241m=\u001b[39m choice\u001b[38;5;241m.\u001b[39mmessage\u001b[38;5;241m.\u001b[39mcontent\n",
      "File \u001b[0;32m~/Library/Caches/pypoetry/virtualenvs/lat-repo-k2TSXIde-py3.11/lib/python3.11/site-packages/openai/api_resources/chat_completion.py:25\u001b[0m, in \u001b[0;36mChatCompletion.create\u001b[0;34m(cls, *args, **kwargs)\u001b[0m\n\u001b[1;32m     23\u001b[0m \u001b[38;5;28;01mwhile\u001b[39;00m \u001b[38;5;28;01mTrue\u001b[39;00m:\n\u001b[1;32m     24\u001b[0m     \u001b[38;5;28;01mtry\u001b[39;00m:\n\u001b[0;32m---> 25\u001b[0m         \u001b[38;5;28;01mreturn\u001b[39;00m \u001b[38;5;28;43msuper\u001b[39;49m\u001b[43m(\u001b[49m\u001b[43m)\u001b[49m\u001b[38;5;241;43m.\u001b[39;49m\u001b[43mcreate\u001b[49m\u001b[43m(\u001b[49m\u001b[38;5;241;43m*\u001b[39;49m\u001b[43margs\u001b[49m\u001b[43m,\u001b[49m\u001b[43m \u001b[49m\u001b[38;5;241;43m*\u001b[39;49m\u001b[38;5;241;43m*\u001b[39;49m\u001b[43mkwargs\u001b[49m\u001b[43m)\u001b[49m\n\u001b[1;32m     26\u001b[0m     \u001b[38;5;28;01mexcept\u001b[39;00m TryAgain \u001b[38;5;28;01mas\u001b[39;00m e:\n\u001b[1;32m     27\u001b[0m         \u001b[38;5;28;01mif\u001b[39;00m timeout \u001b[38;5;129;01mis\u001b[39;00m \u001b[38;5;129;01mnot\u001b[39;00m \u001b[38;5;28;01mNone\u001b[39;00m \u001b[38;5;129;01mand\u001b[39;00m time\u001b[38;5;241m.\u001b[39mtime() \u001b[38;5;241m>\u001b[39m start \u001b[38;5;241m+\u001b[39m timeout:\n",
      "File \u001b[0;32m~/Library/Caches/pypoetry/virtualenvs/lat-repo-k2TSXIde-py3.11/lib/python3.11/site-packages/openai/api_resources/abstract/engine_api_resource.py:153\u001b[0m, in \u001b[0;36mEngineAPIResource.create\u001b[0;34m(cls, api_key, api_base, api_type, request_id, api_version, organization, **params)\u001b[0m\n\u001b[1;32m    127\u001b[0m \u001b[38;5;129m@classmethod\u001b[39m\n\u001b[1;32m    128\u001b[0m \u001b[38;5;28;01mdef\u001b[39;00m \u001b[38;5;21mcreate\u001b[39m(\n\u001b[1;32m    129\u001b[0m     \u001b[38;5;28mcls\u001b[39m,\n\u001b[0;32m   (...)\u001b[0m\n\u001b[1;32m    136\u001b[0m     \u001b[38;5;241m*\u001b[39m\u001b[38;5;241m*\u001b[39mparams,\n\u001b[1;32m    137\u001b[0m ):\n\u001b[1;32m    138\u001b[0m     (\n\u001b[1;32m    139\u001b[0m         deployment_id,\n\u001b[1;32m    140\u001b[0m         engine,\n\u001b[0;32m   (...)\u001b[0m\n\u001b[1;32m    150\u001b[0m         api_key, api_base, api_type, api_version, organization, \u001b[38;5;241m*\u001b[39m\u001b[38;5;241m*\u001b[39mparams\n\u001b[1;32m    151\u001b[0m     )\n\u001b[0;32m--> 153\u001b[0m     response, _, api_key \u001b[38;5;241m=\u001b[39m \u001b[43mrequestor\u001b[49m\u001b[38;5;241;43m.\u001b[39;49m\u001b[43mrequest\u001b[49m\u001b[43m(\u001b[49m\n\u001b[1;32m    154\u001b[0m \u001b[43m        \u001b[49m\u001b[38;5;124;43m\"\u001b[39;49m\u001b[38;5;124;43mpost\u001b[39;49m\u001b[38;5;124;43m\"\u001b[39;49m\u001b[43m,\u001b[49m\n\u001b[1;32m    155\u001b[0m \u001b[43m        \u001b[49m\u001b[43murl\u001b[49m\u001b[43m,\u001b[49m\n\u001b[1;32m    156\u001b[0m \u001b[43m        \u001b[49m\u001b[43mparams\u001b[49m\u001b[38;5;241;43m=\u001b[39;49m\u001b[43mparams\u001b[49m\u001b[43m,\u001b[49m\n\u001b[1;32m    157\u001b[0m \u001b[43m        \u001b[49m\u001b[43mheaders\u001b[49m\u001b[38;5;241;43m=\u001b[39;49m\u001b[43mheaders\u001b[49m\u001b[43m,\u001b[49m\n\u001b[1;32m    158\u001b[0m \u001b[43m        \u001b[49m\u001b[43mstream\u001b[49m\u001b[38;5;241;43m=\u001b[39;49m\u001b[43mstream\u001b[49m\u001b[43m,\u001b[49m\n\u001b[1;32m    159\u001b[0m \u001b[43m        \u001b[49m\u001b[43mrequest_id\u001b[49m\u001b[38;5;241;43m=\u001b[39;49m\u001b[43mrequest_id\u001b[49m\u001b[43m,\u001b[49m\n\u001b[1;32m    160\u001b[0m \u001b[43m        \u001b[49m\u001b[43mrequest_timeout\u001b[49m\u001b[38;5;241;43m=\u001b[39;49m\u001b[43mrequest_timeout\u001b[49m\u001b[43m,\u001b[49m\n\u001b[1;32m    161\u001b[0m \u001b[43m    \u001b[49m\u001b[43m)\u001b[49m\n\u001b[1;32m    163\u001b[0m     \u001b[38;5;28;01mif\u001b[39;00m stream:\n\u001b[1;32m    164\u001b[0m         \u001b[38;5;66;03m# must be an iterator\u001b[39;00m\n\u001b[1;32m    165\u001b[0m         \u001b[38;5;28;01massert\u001b[39;00m \u001b[38;5;129;01mnot\u001b[39;00m \u001b[38;5;28misinstance\u001b[39m(response, OpenAIResponse)\n",
      "File \u001b[0;32m~/Library/Caches/pypoetry/virtualenvs/lat-repo-k2TSXIde-py3.11/lib/python3.11/site-packages/openai/api_requestor.py:226\u001b[0m, in \u001b[0;36mAPIRequestor.request\u001b[0;34m(self, method, url, params, headers, files, stream, request_id, request_timeout)\u001b[0m\n\u001b[1;32m    205\u001b[0m \u001b[38;5;28;01mdef\u001b[39;00m \u001b[38;5;21mrequest\u001b[39m(\n\u001b[1;32m    206\u001b[0m     \u001b[38;5;28mself\u001b[39m,\n\u001b[1;32m    207\u001b[0m     method,\n\u001b[0;32m   (...)\u001b[0m\n\u001b[1;32m    214\u001b[0m     request_timeout: Optional[Union[\u001b[38;5;28mfloat\u001b[39m, Tuple[\u001b[38;5;28mfloat\u001b[39m, \u001b[38;5;28mfloat\u001b[39m]]] \u001b[38;5;241m=\u001b[39m \u001b[38;5;28;01mNone\u001b[39;00m,\n\u001b[1;32m    215\u001b[0m ) \u001b[38;5;241m-\u001b[39m\u001b[38;5;241m>\u001b[39m Tuple[Union[OpenAIResponse, Iterator[OpenAIResponse]], \u001b[38;5;28mbool\u001b[39m, \u001b[38;5;28mstr\u001b[39m]:\n\u001b[1;32m    216\u001b[0m     result \u001b[38;5;241m=\u001b[39m \u001b[38;5;28mself\u001b[39m\u001b[38;5;241m.\u001b[39mrequest_raw(\n\u001b[1;32m    217\u001b[0m         method\u001b[38;5;241m.\u001b[39mlower(),\n\u001b[1;32m    218\u001b[0m         url,\n\u001b[0;32m   (...)\u001b[0m\n\u001b[1;32m    224\u001b[0m         request_timeout\u001b[38;5;241m=\u001b[39mrequest_timeout,\n\u001b[1;32m    225\u001b[0m     )\n\u001b[0;32m--> 226\u001b[0m     resp, got_stream \u001b[38;5;241m=\u001b[39m \u001b[38;5;28;43mself\u001b[39;49m\u001b[38;5;241;43m.\u001b[39;49m\u001b[43m_interpret_response\u001b[49m\u001b[43m(\u001b[49m\u001b[43mresult\u001b[49m\u001b[43m,\u001b[49m\u001b[43m \u001b[49m\u001b[43mstream\u001b[49m\u001b[43m)\u001b[49m\n\u001b[1;32m    227\u001b[0m     \u001b[38;5;28;01mreturn\u001b[39;00m resp, got_stream, \u001b[38;5;28mself\u001b[39m\u001b[38;5;241m.\u001b[39mapi_key\n",
      "File \u001b[0;32m~/Library/Caches/pypoetry/virtualenvs/lat-repo-k2TSXIde-py3.11/lib/python3.11/site-packages/openai/api_requestor.py:620\u001b[0m, in \u001b[0;36mAPIRequestor._interpret_response\u001b[0;34m(self, result, stream)\u001b[0m\n\u001b[1;32m    612\u001b[0m     \u001b[38;5;28;01mreturn\u001b[39;00m (\n\u001b[1;32m    613\u001b[0m         \u001b[38;5;28mself\u001b[39m\u001b[38;5;241m.\u001b[39m_interpret_response_line(\n\u001b[1;32m    614\u001b[0m             line, result\u001b[38;5;241m.\u001b[39mstatus_code, result\u001b[38;5;241m.\u001b[39mheaders, stream\u001b[38;5;241m=\u001b[39m\u001b[38;5;28;01mTrue\u001b[39;00m\n\u001b[1;32m    615\u001b[0m         )\n\u001b[1;32m    616\u001b[0m         \u001b[38;5;28;01mfor\u001b[39;00m line \u001b[38;5;129;01min\u001b[39;00m parse_stream(result\u001b[38;5;241m.\u001b[39miter_lines())\n\u001b[1;32m    617\u001b[0m     ), \u001b[38;5;28;01mTrue\u001b[39;00m\n\u001b[1;32m    618\u001b[0m \u001b[38;5;28;01melse\u001b[39;00m:\n\u001b[1;32m    619\u001b[0m     \u001b[38;5;28;01mreturn\u001b[39;00m (\n\u001b[0;32m--> 620\u001b[0m         \u001b[38;5;28;43mself\u001b[39;49m\u001b[38;5;241;43m.\u001b[39;49m\u001b[43m_interpret_response_line\u001b[49m\u001b[43m(\u001b[49m\n\u001b[1;32m    621\u001b[0m \u001b[43m            \u001b[49m\u001b[43mresult\u001b[49m\u001b[38;5;241;43m.\u001b[39;49m\u001b[43mcontent\u001b[49m\u001b[38;5;241;43m.\u001b[39;49m\u001b[43mdecode\u001b[49m\u001b[43m(\u001b[49m\u001b[38;5;124;43m\"\u001b[39;49m\u001b[38;5;124;43mutf-8\u001b[39;49m\u001b[38;5;124;43m\"\u001b[39;49m\u001b[43m)\u001b[49m\u001b[43m,\u001b[49m\n\u001b[1;32m    622\u001b[0m \u001b[43m            \u001b[49m\u001b[43mresult\u001b[49m\u001b[38;5;241;43m.\u001b[39;49m\u001b[43mstatus_code\u001b[49m\u001b[43m,\u001b[49m\n\u001b[1;32m    623\u001b[0m \u001b[43m            \u001b[49m\u001b[43mresult\u001b[49m\u001b[38;5;241;43m.\u001b[39;49m\u001b[43mheaders\u001b[49m\u001b[43m,\u001b[49m\n\u001b[1;32m    624\u001b[0m \u001b[43m            \u001b[49m\u001b[43mstream\u001b[49m\u001b[38;5;241;43m=\u001b[39;49m\u001b[38;5;28;43;01mFalse\u001b[39;49;00m\u001b[43m,\u001b[49m\n\u001b[1;32m    625\u001b[0m \u001b[43m        \u001b[49m\u001b[43m)\u001b[49m,\n\u001b[1;32m    626\u001b[0m         \u001b[38;5;28;01mFalse\u001b[39;00m,\n\u001b[1;32m    627\u001b[0m     )\n",
      "File \u001b[0;32m~/Library/Caches/pypoetry/virtualenvs/lat-repo-k2TSXIde-py3.11/lib/python3.11/site-packages/openai/api_requestor.py:683\u001b[0m, in \u001b[0;36mAPIRequestor._interpret_response_line\u001b[0;34m(self, rbody, rcode, rheaders, stream)\u001b[0m\n\u001b[1;32m    681\u001b[0m stream_error \u001b[38;5;241m=\u001b[39m stream \u001b[38;5;129;01mand\u001b[39;00m \u001b[38;5;124m\"\u001b[39m\u001b[38;5;124merror\u001b[39m\u001b[38;5;124m\"\u001b[39m \u001b[38;5;129;01min\u001b[39;00m resp\u001b[38;5;241m.\u001b[39mdata\n\u001b[1;32m    682\u001b[0m \u001b[38;5;28;01mif\u001b[39;00m stream_error \u001b[38;5;129;01mor\u001b[39;00m \u001b[38;5;129;01mnot\u001b[39;00m \u001b[38;5;241m200\u001b[39m \u001b[38;5;241m<\u001b[39m\u001b[38;5;241m=\u001b[39m rcode \u001b[38;5;241m<\u001b[39m \u001b[38;5;241m300\u001b[39m:\n\u001b[0;32m--> 683\u001b[0m     \u001b[38;5;28;01mraise\u001b[39;00m \u001b[38;5;28mself\u001b[39m\u001b[38;5;241m.\u001b[39mhandle_error_response(\n\u001b[1;32m    684\u001b[0m         rbody, rcode, resp\u001b[38;5;241m.\u001b[39mdata, rheaders, stream_error\u001b[38;5;241m=\u001b[39mstream_error\n\u001b[1;32m    685\u001b[0m     )\n\u001b[1;32m    686\u001b[0m \u001b[38;5;28;01mreturn\u001b[39;00m resp\n",
      "\u001b[0;31mRateLimitError\u001b[0m: You exceeded your current quota, please check your plan and billing details."
     ]
    }
   ],
   "source": [
    "data = []\n",
    "for i in range(filenum):\n",
    "    string = \"\"\n",
    "    for j in paper_data[i]:\n",
    "        string += chatgptfn(j)\n",
    "    data.append(string)"
   ]
  },
  {
   "cell_type": "code",
   "execution_count": 13,
   "id": "5255fb88",
   "metadata": {},
   "outputs": [],
   "source": [
    "import gensim\n",
    "from gensim import corpora\n",
    "from pprint import pprint"
   ]
  },
  {
   "cell_type": "code",
   "execution_count": 14,
   "id": "f096a4a3",
   "metadata": {},
   "outputs": [],
   "source": [
    "# 創建詞袋\n",
    "texts = [[word for word in document.lower().split()] for document in data]\n",
    "dictionary = corpora.Dictionary(texts)\n",
    "corpus = [dictionary.doc2bow(text) for text in texts]"
   ]
  },
  {
   "cell_type": "code",
   "execution_count": 15,
   "id": "26ad9225",
   "metadata": {},
   "outputs": [
    {
     "ename": "ValueError",
     "evalue": "cannot compute LDA over an empty collection (no terms)",
     "output_type": "error",
     "traceback": [
      "\u001b[0;31m---------------------------------------------------------------------------\u001b[0m",
      "\u001b[0;31mValueError\u001b[0m                                Traceback (most recent call last)",
      "Cell \u001b[0;32mIn[15], line 2\u001b[0m\n\u001b[1;32m      1\u001b[0m \u001b[38;5;66;03m# 訓練 LDA 模型\u001b[39;00m\n\u001b[0;32m----> 2\u001b[0m lda_model \u001b[38;5;241m=\u001b[39m \u001b[43mgensim\u001b[49m\u001b[38;5;241;43m.\u001b[39;49m\u001b[43mmodels\u001b[49m\u001b[38;5;241;43m.\u001b[39;49m\u001b[43mldamodel\u001b[49m\u001b[38;5;241;43m.\u001b[39;49m\u001b[43mLdaModel\u001b[49m\u001b[43m(\u001b[49m\u001b[43mcorpus\u001b[49m\u001b[38;5;241;43m=\u001b[39;49m\u001b[43mcorpus\u001b[49m\u001b[43m,\u001b[49m\u001b[43m \u001b[49m\u001b[43mid2word\u001b[49m\u001b[38;5;241;43m=\u001b[39;49m\u001b[43mdictionary\u001b[49m\u001b[43m,\u001b[49m\u001b[43m \u001b[49m\n\u001b[1;32m      3\u001b[0m \u001b[43m                                            \u001b[49m\u001b[43mnum_topics\u001b[49m\u001b[38;5;241;43m=\u001b[39;49m\u001b[38;5;241;43m3\u001b[39;49m\u001b[43m,\u001b[49m\u001b[43m \u001b[49m\u001b[43mrandom_state\u001b[49m\u001b[38;5;241;43m=\u001b[39;49m\u001b[38;5;241;43m100\u001b[39;49m\u001b[43m,\u001b[49m\u001b[43m \u001b[49m\u001b[43mupdate_every\u001b[49m\u001b[38;5;241;43m=\u001b[39;49m\u001b[38;5;241;43m1\u001b[39;49m\u001b[43m,\u001b[49m\u001b[43m \u001b[49m\n\u001b[1;32m      4\u001b[0m \u001b[43m                                            \u001b[49m\u001b[43mchunksize\u001b[49m\u001b[38;5;241;43m=\u001b[39;49m\u001b[38;5;241;43m100\u001b[39;49m\u001b[43m,\u001b[49m\u001b[43m \u001b[49m\u001b[43mpasses\u001b[49m\u001b[38;5;241;43m=\u001b[39;49m\u001b[38;5;241;43m10\u001b[39;49m\u001b[43m,\u001b[49m\u001b[43m \u001b[49m\u001b[43malpha\u001b[49m\u001b[38;5;241;43m=\u001b[39;49m\u001b[38;5;124;43m'\u001b[39;49m\u001b[38;5;124;43mauto\u001b[39;49m\u001b[38;5;124;43m'\u001b[39;49m\u001b[43m,\u001b[49m\u001b[43m \u001b[49m\u001b[43mper_word_topics\u001b[49m\u001b[38;5;241;43m=\u001b[39;49m\u001b[38;5;28;43;01mTrue\u001b[39;49;00m\u001b[43m)\u001b[49m\n",
      "File \u001b[0;32m~/Library/Caches/pypoetry/virtualenvs/lat-repo-k2TSXIde-py3.11/lib/python3.11/site-packages/gensim/models/ldamodel.py:448\u001b[0m, in \u001b[0;36mLdaModel.__init__\u001b[0;34m(self, corpus, num_topics, id2word, distributed, chunksize, passes, update_every, alpha, eta, decay, offset, eval_every, iterations, gamma_threshold, minimum_probability, random_state, ns_conf, minimum_phi_value, per_word_topics, callbacks, dtype)\u001b[0m\n\u001b[1;32m    445\u001b[0m     \u001b[38;5;28mself\u001b[39m\u001b[38;5;241m.\u001b[39mnum_terms \u001b[38;5;241m=\u001b[39m \u001b[38;5;241m0\u001b[39m\n\u001b[1;32m    447\u001b[0m \u001b[38;5;28;01mif\u001b[39;00m \u001b[38;5;28mself\u001b[39m\u001b[38;5;241m.\u001b[39mnum_terms \u001b[38;5;241m==\u001b[39m \u001b[38;5;241m0\u001b[39m:\n\u001b[0;32m--> 448\u001b[0m     \u001b[38;5;28;01mraise\u001b[39;00m \u001b[38;5;167;01mValueError\u001b[39;00m(\u001b[38;5;124m\"\u001b[39m\u001b[38;5;124mcannot compute LDA over an empty collection (no terms)\u001b[39m\u001b[38;5;124m\"\u001b[39m)\n\u001b[1;32m    450\u001b[0m \u001b[38;5;28mself\u001b[39m\u001b[38;5;241m.\u001b[39mdistributed \u001b[38;5;241m=\u001b[39m \u001b[38;5;28mbool\u001b[39m(distributed)\n\u001b[1;32m    451\u001b[0m \u001b[38;5;28mself\u001b[39m\u001b[38;5;241m.\u001b[39mnum_topics \u001b[38;5;241m=\u001b[39m \u001b[38;5;28mint\u001b[39m(num_topics)\n",
      "\u001b[0;31mValueError\u001b[0m: cannot compute LDA over an empty collection (no terms)"
     ]
    }
   ],
   "source": [
    "# 訓練 LDA 模型\n",
    "lda_model = gensim.models.ldamodel.LdaModel(corpus=corpus, id2word=dictionary, \n",
    "                                            num_topics=3, random_state=100, update_every=1, \n",
    "                                            chunksize=100, passes=10, alpha='auto', per_word_topics=True)"
   ]
  },
  {
   "cell_type": "code",
   "execution_count": 16,
   "id": "92a29dc6",
   "metadata": {},
   "outputs": [
    {
     "ename": "NameError",
     "evalue": "name 'lda_model' is not defined",
     "output_type": "error",
     "traceback": [
      "\u001b[0;31m---------------------------------------------------------------------------\u001b[0m",
      "\u001b[0;31mNameError\u001b[0m                                 Traceback (most recent call last)",
      "Cell \u001b[0;32mIn[16], line 4\u001b[0m\n\u001b[1;32m      2\u001b[0m \u001b[38;5;28;01mimport\u001b[39;00m \u001b[38;5;21;01mpyLDAvis\u001b[39;00m\u001b[38;5;21;01m.\u001b[39;00m\u001b[38;5;21;01mgensim\u001b[39;00m\n\u001b[1;32m      3\u001b[0m pyLDAvis\u001b[38;5;241m.\u001b[39menable_notebook()\n\u001b[0;32m----> 4\u001b[0m vis \u001b[38;5;241m=\u001b[39m pyLDAvis\u001b[38;5;241m.\u001b[39mgensim\u001b[38;5;241m.\u001b[39mprepare(\u001b[43mlda_model\u001b[49m, corpus, dictionary)\n\u001b[1;32m      5\u001b[0m pyLDAvis\u001b[38;5;241m.\u001b[39mdisplay(vis)\n",
      "\u001b[0;31mNameError\u001b[0m: name 'lda_model' is not defined"
     ]
    }
   ],
   "source": [
    "# 輸出主題模型分析結果\n",
    "import pyLDAvis.gensim\n",
    "pyLDAvis.enable_notebook()\n",
    "vis = pyLDAvis.gensim.prepare(lda_model, corpus, dictionary)\n",
    "pyLDAvis.display(vis)"
   ]
  }
 ],
 "metadata": {
  "kernelspec": {
   "display_name": "Python 3 (ipykernel)",
   "language": "python",
   "name": "python3"
  },
  "language_info": {
   "codemirror_mode": {
    "name": "ipython",
    "version": 3
   },
   "file_extension": ".py",
   "mimetype": "text/x-python",
   "name": "python",
   "nbconvert_exporter": "python",
   "pygments_lexer": "ipython3",
   "version": "3.11.2"
  }
 },
 "nbformat": 4,
 "nbformat_minor": 5
}
